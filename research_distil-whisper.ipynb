{
 "cells": [
  {
   "cell_type": "markdown",
   "id": "39f7cb97",
   "metadata": {},
   "source": [
    "### Testing out Distil-Whisper"
   ]
  },
  {
   "cell_type": "markdown",
   "id": "d479b102",
   "metadata": {},
   "source": [
    "[GitHub Repo](https://github.com/huggingface/distil-whisper/tree/3c8c15f771139f4c98284486534667a87927ae45) of model."
   ]
  },
  {
   "cell_type": "code",
   "execution_count": 4,
   "id": "d5f55f96",
   "metadata": {},
   "outputs": [],
   "source": [
    "import torch\n",
    "from transformers import AutoModelForSpeechSeq2Seq, AutoProcessor, pipeline"
   ]
  },
  {
   "cell_type": "code",
   "execution_count": 5,
   "id": "81c7c84a",
   "metadata": {},
   "outputs": [],
   "source": [
    "device = \"cuda:0\" if torch.cuda.is_available() else \"cpu\"\n",
    "torch_dtype = torch.float16 if torch.cuda.is_available() else torch.float32"
   ]
  },
  {
   "cell_type": "code",
   "execution_count": 11,
   "id": "7550dbd2",
   "metadata": {},
   "outputs": [
    {
     "data": {
      "text/plain": [
       "'cpu'"
      ]
     },
     "metadata": {},
     "output_type": "display_data"
    },
    {
     "data": {
      "text/plain": [
       "torch.float32"
      ]
     },
     "metadata": {},
     "output_type": "display_data"
    }
   ],
   "source": [
    "display(device)\n",
    "display(torch_dtype)"
   ]
  },
  {
   "cell_type": "code",
   "execution_count": 12,
   "id": "86b53eea",
   "metadata": {},
   "outputs": [
    {
     "name": "stderr",
     "output_type": "stream",
     "text": [
      "Downloading (…)lve/main/config.json: 100%|█| 2.29k/2.29k [00:00<00:00, 4\n",
      "Downloading model.safetensors: 100%|█| 1.51G/1.51G [03:08<00:00, 8.04MB/\n",
      "Downloading (…)neration_config.json: 100%|█| 3.59k/3.59k [00:00<?, ?B/s]\n",
      "Downloading (…)rocessor_config.json: 100%|█| 339/339 [00:00<00:00, 92.8k\n",
      "Downloading (…)okenizer_config.json: 100%|█| 283k/283k [00:00<00:00, 803\n",
      "Downloading (…)olve/main/vocab.json: 100%|█| 836k/836k [00:00<00:00, 1.5\n",
      "Downloading (…)/main/tokenizer.json: 100%|█| 2.48M/2.48M [00:00<00:00, 1\n",
      "Downloading (…)olve/main/merges.txt: 100%|█| 494k/494k [00:00<00:00, 1.2\n",
      "Downloading (…)main/normalizer.json: 100%|█| 52.7k/52.7k [00:00<00:00, 4\n",
      "Downloading (…)in/added_tokens.json: 100%|█| 34.6k/34.6k [00:00<?, ?B/s]\n",
      "Downloading (…)cial_tokens_map.json: 100%|█| 2.08k/2.08k [00:00<00:00, 4\n",
      "Special tokens have been added in the vocabulary, make sure the associated word embeddings are fine-tuned or trained.\n"
     ]
    }
   ],
   "source": [
    "# Distil-Whisper model id on hugging face api\n",
    "model_id = \"distil-whisper/distil-large-v2\"\n",
    "\n",
    "# load the model...\n",
    "model = AutoModelForSpeechSeq2Seq.from_pretrained(\n",
    "    model_id,\n",
    "    torch_dtype=torch_dtype,\n",
    "    low_cpu_mem_usage=True,  # this helps keep loading time as low as possible\n",
    "    use_safetensors=True  # use safetensors\n",
    ")\n",
    "\n",
    "model.to(device)\n",
    "\n",
    "# ... and the processor\n",
    "processor = AutoProcessor.from_pretrained(model_id)"
   ]
  },
  {
   "cell_type": "code",
   "execution_count": 13,
   "id": "3465177f",
   "metadata": {},
   "outputs": [],
   "source": [
    "pipe = pipeline(\n",
    "    \"automatic-speech-recognition\",\n",
    "    model=model,\n",
    "    tokenizer=processor.tokenizer,\n",
    "    feature_extractor=processor.feature_extractor,\n",
    "    max_new_tokens=128,\n",
    "    torch_dtype=torch_dtype,\n",
    "    device=device,\n",
    ")"
   ]
  },
  {
   "cell_type": "code",
   "execution_count": 14,
   "id": "e3918b1c",
   "metadata": {},
   "outputs": [
    {
     "name": "stderr",
     "output_type": "stream",
     "text": [
      "Downloading builder script: 100%|███| 5.17k/5.17k [00:00<00:00, 619kB/s]\n",
      "Downloading data files:   0%|                     | 0/1 [00:00<?, ?it/s]\n",
      "Downloading data:   0%|                     | 0.00/9.08M [00:00<?, ?B/s]\u001b[A\n",
      "Downloading data:   0%|             | 21.5k/9.08M [00:00<00:50, 180kB/s]\u001b[A\n",
      "Downloading data:   1%|             | 69.6k/9.08M [00:00<00:31, 282kB/s]\u001b[A\n",
      "Downloading data:   2%|▏             | 157k/9.08M [00:00<00:26, 334kB/s]\u001b[A\n",
      "Downloading data:   3%|▍             | 244k/9.08M [00:00<00:23, 376kB/s]\u001b[A\n",
      "Downloading data:   3%|▍             | 313k/9.08M [00:00<00:22, 397kB/s]\u001b[A\n",
      "Downloading data:   6%|▊             | 557k/9.08M [00:01<00:11, 762kB/s]\u001b[A\n",
      "Downloading data:   8%|█             | 696k/9.08M [00:01<00:10, 834kB/s]\u001b[A\n",
      "Downloading data:   9%|█▏            | 783k/9.08M [00:01<00:11, 729kB/s]\u001b[A\n",
      "Downloading data:  10%|█▍            | 940k/9.08M [00:01<00:10, 740kB/s]\u001b[A\n",
      "Downloading data:  12%|█▍           | 1.04M/9.08M [00:01<00:12, 662kB/s]\u001b[A\n",
      "Downloading data:  13%|█▋           | 1.17M/9.08M [00:01<00:12, 645kB/s]\u001b[A\n",
      "Downloading data:  14%|█▊           | 1.27M/9.08M [00:02<00:17, 453kB/s]\u001b[A\n",
      "Downloading data:  15%|█▉           | 1.39M/9.08M [00:02<00:14, 536kB/s]\u001b[A\n",
      "Downloading data:  17%|██▏          | 1.51M/9.08M [00:02<00:13, 580kB/s]\u001b[A\n",
      "Downloading data:  18%|██▎          | 1.60M/9.08M [00:02<00:13, 538kB/s]\u001b[A\n",
      "Downloading data:  19%|██▍          | 1.69M/9.08M [00:03<00:14, 500kB/s]\u001b[A\n",
      "Downloading data:  20%|██▌          | 1.78M/9.08M [00:03<00:15, 480kB/s]\u001b[A\n",
      "Downloading data:  21%|██▋          | 1.86M/9.08M [00:03<00:15, 461kB/s]\u001b[A\n",
      "Downloading data:  21%|██▋          | 1.91M/9.08M [00:03<00:17, 399kB/s]\u001b[A\n",
      "Downloading data:  22%|██▊          | 1.97M/9.08M [00:03<00:20, 354kB/s]\u001b[A\n",
      "Downloading data:  22%|██▉          | 2.02M/9.08M [00:04<00:21, 328kB/s]\u001b[A\n",
      "Downloading data:  23%|██▉          | 2.09M/9.08M [00:04<00:21, 329kB/s]\u001b[A\n",
      "Downloading data:  24%|███          | 2.14M/9.08M [00:04<00:22, 309kB/s]\u001b[A\n",
      "Downloading data:  24%|███▏         | 2.21M/9.08M [00:04<00:21, 317kB/s]\u001b[A\n",
      "Downloading data:  25%|███▎         | 2.28M/9.08M [00:04<00:20, 326kB/s]\u001b[A\n",
      "Downloading data:  26%|███▎         | 2.33M/9.08M [00:05<00:22, 303kB/s]\u001b[A\n",
      "Downloading data:  26%|███▍         | 2.40M/9.08M [00:05<00:21, 315kB/s]\u001b[A\n",
      "Downloading data:  27%|███▌         | 2.47M/9.08M [00:05<00:20, 321kB/s]\u001b[A\n",
      "Downloading data:  28%|███▋         | 2.54M/9.08M [00:05<00:19, 341kB/s]\u001b[A\n",
      "Downloading data:  29%|███▋         | 2.61M/9.08M [00:05<00:17, 378kB/s]\u001b[A\n",
      "Downloading data:  29%|███▊         | 2.66M/9.08M [00:05<00:16, 381kB/s]\u001b[A\n",
      "Downloading data:  30%|███▉         | 2.73M/9.08M [00:06<00:15, 399kB/s]\u001b[A\n",
      "Downloading data:  31%|████         | 2.80M/9.08M [00:06<00:14, 424kB/s]\u001b[A\n",
      "Downloading data:  32%|████         | 2.87M/9.08M [00:06<00:19, 323kB/s]\u001b[A\n",
      "Downloading data:  33%|████▎        | 2.98M/9.08M [00:06<00:14, 412kB/s]\u001b[A\n",
      "Downloading data:  33%|████▎        | 3.03M/9.08M [00:06<00:16, 363kB/s]\u001b[A\n",
      "Downloading data:  34%|████▍        | 3.08M/9.08M [00:07<00:16, 366kB/s]\u001b[A\n",
      "Downloading data:  35%|████▍        | 3.13M/9.08M [00:07<00:16, 358kB/s]\u001b[A\n",
      "Downloading data:  35%|████▌        | 3.19M/9.08M [00:07<00:18, 317kB/s]\u001b[A\n",
      "Downloading data:  36%|████▋        | 3.24M/9.08M [00:07<00:19, 296kB/s]\u001b[A\n",
      "Downloading data:  36%|████▋        | 3.31M/9.08M [00:07<00:18, 308kB/s]\u001b[A\n",
      "Downloading data:  37%|████▊        | 3.36M/9.08M [00:08<00:19, 293kB/s]\u001b[A\n",
      "Downloading data:  38%|████▉        | 3.41M/9.08M [00:08<00:20, 281kB/s]\u001b[A\n",
      "Downloading data:  38%|████▉        | 3.46M/9.08M [00:08<00:18, 304kB/s]\u001b[A\n",
      "Downloading data:  39%|█████        | 3.52M/9.08M [00:08<00:17, 326kB/s]\u001b[A\n",
      "Downloading data:  39%|█████▏       | 3.59M/9.08M [00:08<00:15, 351kB/s]\u001b[A\n",
      "Downloading data:  40%|█████▏       | 3.64M/9.08M [00:08<00:16, 339kB/s]\u001b[A\n",
      "Downloading data:  41%|█████▎       | 3.69M/9.08M [00:09<00:15, 343kB/s]\u001b[A\n",
      "Downloading data:  41%|█████▍       | 3.76M/9.08M [00:09<00:13, 384kB/s]\u001b[A\n",
      "Downloading data:  42%|█████▍       | 3.81M/9.08M [00:09<00:13, 386kB/s]\u001b[A\n",
      "Downloading data:  43%|█████▌       | 3.86M/9.08M [00:09<00:13, 388kB/s]\u001b[A\n",
      "Downloading data:  43%|█████▋       | 3.93M/9.08M [00:09<00:12, 421kB/s]\u001b[A\n",
      "Downloading data:  44%|█████▋       | 3.99M/9.08M [00:09<00:13, 386kB/s]\u001b[A\n",
      "Downloading data:  45%|█████▊       | 4.06M/9.08M [00:09<00:11, 419kB/s]\u001b[A\n",
      "Downloading data:  45%|█████▉       | 4.13M/9.08M [00:10<00:11, 441kB/s]\u001b[A\n",
      "Downloading data:  46%|█████▉       | 4.18M/9.08M [00:10<00:13, 373kB/s]\u001b[A\n",
      "Downloading data:  47%|██████       | 4.25M/9.08M [00:10<00:13, 364kB/s]\u001b[A\n",
      "Downloading data:  48%|██████▏      | 4.32M/9.08M [00:10<00:13, 358kB/s]\u001b[A\n",
      "Downloading data:  48%|██████▎      | 4.37M/9.08M [00:10<00:14, 321kB/s]\u001b[A\n",
      "Downloading data:  49%|██████▎      | 4.44M/9.08M [00:11<00:14, 329kB/s]\u001b[A\n",
      "Downloading data:  50%|██████▍      | 4.51M/9.08M [00:11<00:13, 332kB/s]\u001b[A\n",
      "Downloading data:  50%|██████▌      | 4.58M/9.08M [00:11<00:13, 332kB/s]\u001b[A\n",
      "Downloading data:  51%|██████▋      | 4.65M/9.08M [00:11<00:13, 338kB/s]\u001b[A\n",
      "Downloading data:  52%|██████▊      | 4.72M/9.08M [00:11<00:12, 338kB/s]\u001b[A\n",
      "Downloading data:  53%|██████▊      | 4.77M/9.08M [00:12<00:13, 311kB/s]\u001b[A\n",
      "Downloading data:  53%|██████▉      | 4.82M/9.08M [00:12<00:13, 325kB/s]\u001b[A\n",
      "Downloading data:  54%|██████▉      | 4.87M/9.08M [00:12<00:12, 324kB/s]\u001b[A\n",
      "Downloading data:  54%|███████      | 4.93M/9.08M [00:12<00:13, 298kB/s]\u001b[A\n",
      "Downloading data:  55%|███████▏     | 5.00M/9.08M [00:12<00:13, 313kB/s]\u001b[A\n",
      "Downloading data:  56%|███████▏     | 5.05M/9.08M [00:12<00:13, 295kB/s]\u001b[A\n",
      "Downloading data:  56%|███████▎     | 5.10M/9.08M [00:13<00:14, 281kB/s]\u001b[A\n",
      "Downloading data:  57%|███████▍     | 5.17M/9.08M [00:13<00:13, 299kB/s]\u001b[A\n",
      "Downloading data:  58%|███████▍     | 5.22M/9.08M [00:13<00:13, 286kB/s]\u001b[A\n",
      "Downloading data:  58%|███████▌     | 5.29M/9.08M [00:13<00:12, 306kB/s]\u001b[A\n",
      "Downloading data:  59%|███████▋     | 5.34M/9.08M [00:14<00:12, 288kB/s]\u001b[A\n",
      "Downloading data:  60%|███████▊     | 5.41M/9.08M [00:14<00:12, 303kB/s]\u001b[A\n",
      "Downloading data:  60%|███████▊     | 5.47M/9.08M [00:14<00:12, 290kB/s]\u001b[A\n",
      "Downloading data:  61%|███████▉     | 5.54M/9.08M [00:14<00:11, 305kB/s]\u001b[A\n",
      "Downloading data:  62%|████████     | 5.59M/9.08M [00:14<00:10, 318kB/s]\u001b[A\n",
      "Downloading data:  62%|████████     | 5.66M/9.08M [00:14<00:09, 346kB/s]\u001b[A\n",
      "Downloading data:  63%|████████▏    | 5.71M/9.08M [00:15<00:09, 357kB/s]\u001b[A\n",
      "Downloading data:  64%|████████▎    | 5.78M/9.08M [00:15<00:08, 395kB/s]\u001b[A\n",
      "Downloading data:  64%|████████▍    | 5.85M/9.08M [00:15<00:07, 422kB/s]\u001b[A\n",
      "Downloading data:  65%|████████▍    | 5.90M/9.08M [00:15<00:08, 364kB/s]\u001b[A\n",
      "Downloading data:  66%|████████▌    | 5.97M/9.08M [00:15<00:08, 358kB/s]\u001b[A\n",
      "Downloading data:  67%|████████▋    | 6.04M/9.08M [00:15<00:08, 353kB/s]\u001b[A\n",
      "Downloading data:  67%|████████▋    | 6.11M/9.08M [00:16<00:08, 347kB/s]\u001b[A\n",
      "Downloading data:  68%|████████▊    | 6.18M/9.08M [00:16<00:08, 343kB/s]\u001b[A\n",
      "Downloading data:  69%|████████▉    | 6.23M/9.08M [00:16<00:08, 316kB/s]\u001b[A\n",
      "Downloading data:  69%|█████████    | 6.30M/9.08M [00:16<00:08, 323kB/s]\u001b[A\n",
      "Downloading data:  70%|█████████    | 6.37M/9.08M [00:16<00:08, 329kB/s]\u001b[A\n",
      "Downloading data:  71%|█████████▏   | 6.44M/9.08M [00:17<00:07, 333kB/s]\u001b[A\n",
      "Downloading data:  72%|█████████▎   | 6.51M/9.08M [00:17<00:07, 336kB/s]\u001b[A\n",
      "Downloading data:  72%|█████████▍   | 6.58M/9.08M [00:17<00:07, 336kB/s]\u001b[A\n",
      "Downloading data:  73%|█████████▌   | 6.67M/9.08M [00:17<00:06, 362kB/s]\u001b[A\n",
      "Downloading data:  74%|█████████▋   | 6.74M/9.08M [00:18<00:06, 357kB/s]\u001b[A\n",
      "Downloading data:  75%|█████████▋   | 6.81M/9.08M [00:18<00:06, 351kB/s]\u001b[A\n",
      "Downloading data:  76%|█████████▊   | 6.88M/9.08M [00:18<00:06, 349kB/s]\u001b[A\n",
      "Downloading data:  77%|█████████▉   | 6.96M/9.08M [00:18<00:05, 373kB/s]\u001b[A\n",
      "Downloading data:  77%|██████████   | 7.03M/9.08M [00:18<00:05, 362kB/s]\u001b[A\n",
      "Downloading data:  78%|██████████▏  | 7.10M/9.08M [00:19<00:07, 272kB/s]\u001b[A\n",
      "Downloading data:  80%|██████████▎  | 7.22M/9.08M [00:19<00:04, 381kB/s]\u001b[A\n",
      "Downloading data:  80%|██████████▍  | 7.29M/9.08M [00:19<00:04, 405kB/s]\u001b[A\n",
      "Downloading data:  81%|██████████▌  | 7.35M/9.08M [00:19<00:04, 349kB/s]\u001b[A\n"
     ]
    },
    {
     "name": "stderr",
     "output_type": "stream",
     "text": [
      "Downloading data:  81%|██████████▌  | 7.40M/9.08M [00:19<00:05, 321kB/s]\u001b[A\n",
      "Downloading data:  82%|██████████▋  | 7.47M/9.08M [00:20<00:04, 360kB/s]\u001b[A\n",
      "Downloading data:  83%|██████████▊  | 7.54M/9.08M [00:20<00:04, 379kB/s]\u001b[A\n",
      "Downloading data:  84%|██████████▊  | 7.59M/9.08M [00:20<00:04, 334kB/s]\u001b[A\n",
      "Downloading data:  84%|██████████▉  | 7.66M/9.08M [00:20<00:04, 338kB/s]\u001b[A\n",
      "Downloading data:  85%|███████████  | 7.73M/9.08M [00:20<00:03, 338kB/s]\u001b[A\n",
      "Downloading data:  86%|███████████▏ | 7.80M/9.08M [00:21<00:03, 338kB/s]\u001b[A\n",
      "Downloading data:  87%|███████████▎ | 7.87M/9.08M [00:21<00:03, 340kB/s]\u001b[A\n",
      "Downloading data:  87%|███████████▎ | 7.92M/9.08M [00:21<00:04, 273kB/s]\u001b[A\n",
      "Downloading data:  89%|███████████▌ | 8.04M/9.08M [00:21<00:02, 359kB/s]\u001b[A\n",
      "Downloading data:  89%|███████████▌ | 8.09M/9.08M [00:22<00:02, 331kB/s]\u001b[A\n",
      "Downloading data:  90%|███████████▋ | 8.13M/9.08M [00:22<00:03, 284kB/s]\u001b[A\n",
      "Downloading data:  90%|███████████▋ | 8.18M/9.08M [00:22<00:03, 276kB/s]\u001b[A\n",
      "Downloading data:  91%|███████████▊ | 8.23M/9.08M [00:22<00:03, 269kB/s]\u001b[A\n",
      "Downloading data:  91%|███████████▊ | 8.29M/9.08M [00:22<00:02, 268kB/s]\u001b[A\n",
      "Downloading data:  92%|███████████▉ | 8.34M/9.08M [00:23<00:02, 261kB/s]\u001b[A\n",
      "Downloading data:  92%|████████████ | 8.39M/9.08M [00:23<00:02, 259kB/s]\u001b[A\n",
      "Downloading data:  93%|████████████ | 8.44M/9.08M [00:23<00:02, 266kB/s]\u001b[A\n",
      "Downloading data:  94%|████████████▏| 8.50M/9.08M [00:23<00:01, 293kB/s]\u001b[A\n",
      "Downloading data:  94%|████████████▏| 8.55M/9.08M [00:23<00:01, 287kB/s]\u001b[A\n",
      "Downloading data:  95%|████████████▎| 8.60M/9.08M [00:23<00:01, 275kB/s]\u001b[A\n",
      "Downloading data:  95%|████████████▍| 8.65M/9.08M [00:24<00:01, 269kB/s]\u001b[A\n",
      "Downloading data:  96%|████████████▍| 8.70M/9.08M [00:24<00:01, 295kB/s]\u001b[A\n",
      "Downloading data:  96%|████████████▌| 8.76M/9.08M [00:24<00:01, 317kB/s]\u001b[A\n",
      "Downloading data:  97%|████████████▋| 8.83M/9.08M [00:24<00:00, 364kB/s]\u001b[A\n",
      "Downloading data:  98%|████████████▋| 8.88M/9.08M [00:24<00:00, 329kB/s]\u001b[A\n",
      "Downloading data:  98%|████████████▊| 8.93M/9.08M [00:24<00:00, 303kB/s]\u001b[A\n",
      "Downloading data:  99%|████████████▉| 9.00M/9.08M [00:25<00:00, 315kB/s]\u001b[A\n",
      "Downloading data: 100%|█████████████| 9.08M/9.08M [00:25<00:00, 358kB/s]\u001b[A\n",
      "Downloading data files: 100%|█████████████| 1/1 [00:26<00:00, 26.92s/it]\n",
      "Extracting data files: 100%|██████████████| 1/1 [00:00<00:00,  1.73it/s]\n",
      "Generating validation split: 73 examples [00:00, 810.38 examples/s]\n"
     ]
    }
   ],
   "source": [
    "# load audio sample from LibriSpeech corpus\n",
    "from datasets import load_dataset\n",
    "\n",
    "dataset = load_dataset('hf-internal-testing/librispeech_asr_dummy', 'clean', split='validation')\n",
    "sample_audio = dataset[0]['audio']"
   ]
  },
  {
   "cell_type": "code",
   "execution_count": 15,
   "id": "a41b08e9",
   "metadata": {},
   "outputs": [
    {
     "name": "stdout",
     "output_type": "stream",
     "text": [
      " Mr. Quilter is the apostle of the middle classes, and we are glad to welcome his gospel.\n"
     ]
    }
   ],
   "source": [
    "result = pipe(sample_audio)\n",
    "print(result['text'])"
   ]
  },
  {
   "cell_type": "code",
   "execution_count": 16,
   "id": "5f9e8d5c",
   "metadata": {},
   "outputs": [
    {
     "name": "stdout",
     "output_type": "stream",
     "text": [
      " You're listening to a toad-stool in Ferrydusts production of Green Eggs and Ham by Dr. Seuss. Be sure to hit the thumbs-up button and subscribe. It lets YouTube know that you're interested in more videos like this. I am Sam.\n"
     ]
    }
   ],
   "source": [
    "# load local sample audio\n",
    "green_eggs_and_ham_audio = r\"C:\\Users\\Administrator\\Desktop\\repos\\auto_caption\\green_eggs_and_ham_video\\green_eggs_and_ham_audio.mp4\"\n",
    "result2 = pipe(green_eggs_and_ham_audio)\n",
    "print(result2['text'])"
   ]
  },
  {
   "cell_type": "code",
   "execution_count": null,
   "id": "fe485c14",
   "metadata": {},
   "outputs": [],
   "source": []
  }
 ],
 "metadata": {
  "kernelspec": {
   "display_name": "venv_auto_caption",
   "language": "python",
   "name": "venv_auto_caption"
  },
  "language_info": {
   "codemirror_mode": {
    "name": "ipython",
    "version": 3
   },
   "file_extension": ".py",
   "mimetype": "text/x-python",
   "name": "python",
   "nbconvert_exporter": "python",
   "pygments_lexer": "ipython3",
   "version": "3.11.4"
  }
 },
 "nbformat": 4,
 "nbformat_minor": 5
}
